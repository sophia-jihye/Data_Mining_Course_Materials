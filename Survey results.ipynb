{
 "cells": [
  {
   "cell_type": "code",
   "execution_count": 17,
   "metadata": {},
   "outputs": [],
   "source": [
    "import pandas as pd\n",
    "from collections import Counter\n",
    "import seaborn as sns"
   ]
  },
  {
   "cell_type": "markdown",
   "metadata": {},
   "source": [
    "* Out of 38 students, 25 participated in the survey.\n",
    "* Note that multiple choices were allowed in response to the survey."
   ]
  },
  {
   "cell_type": "code",
   "execution_count": 34,
   "metadata": {},
   "outputs": [],
   "source": [
    "responses = '''대행사 입사방법이나 팁 (마케팅 직군도 포함), 업무에 대한 살아있는 이야기 (워킹 플로우)\n",
    "대행사 입사방법이나 팁 (마케팅 직군도 포함), 최근 각광받는 Creative에 대하여, 업무에 대한 살아있는 이야기 (워킹 플로우), 좋은 기획이란 무엇인가\n",
    "AE / AD / CD / CW / Media / Retail / PD / PM 등 업역에 대한 이해\n",
    "업계 내에서 디지털이나 데이터 포지션 / 하는 역할, 업무에 대한 살아있는 이야기 (워킹 플로우), 좋은 기획이란 무엇인가, 광고 대행사 내 데이터 포지션을 지닌 업무에서 통계학(혹은 더 나아가 머신러닝)이 쓰이나요? 쓰인다면 어떤 방향인지도 여쭙고 싶습니다.\n",
    "업계 내에서 디지털이나 데이터 포지션 / 하는 역할, AE / AD / CD / CW / Media / Retail / PD / PM 등 업역에 대한 이해\n",
    "AE / AD / CD / CW / Media / Retail / PD / PM 등 업역에 대한 이해, 대행사 입사방법이나 팁 (마케팅 직군도 포함)\n",
    "업계 내에서 디지털이나 데이터 포지션 / 하는 역할, AE / AD / CD / CW / Media / Retail / PD / PM 등 업역에 대한 이해, 대행사 입사방법이나 팁 (마케팅 직군도 포함)\n",
    "AE / AD / CD / CW / Media / Retail / PD / PM 등 업역에 대한 이해\n",
    "대행사 입사방법이나 팁 (마케팅 직군도 포함), 최근 각광받는 Creative에 대하여\n",
    "업계 내에서 디지털이나 데이터 포지션 / 하는 역할, AE / AD / CD / CW / Media / Retail / PD / PM 등 업역에 대한 이해, 업무에 대한 살아있는 이야기 (워킹 플로우), 업무에 통상적으로 요구되는 데이터 분석 능력 수준\n",
    "AE / AD / CD / CW / Media / Retail / PD / PM 등 업역에 대한 이해, 대행사 입사방법이나 팁 (마케팅 직군도 포함)\n",
    "업계 내에서 디지털이나 데이터 포지션 / 하는 역할, 업무에 대한 살아있는 이야기 (워킹 플로우), 좋은 기획이란 무엇인가\n",
    "업계 내에서 디지털이나 데이터 포지션 / 하는 역할, AE / AD / CD / CW / Media / Retail / PD / PM 등 업역에 대한 이해, 대행사 입사방법이나 팁 (마케팅 직군도 포함)\n",
    "AE / AD / CD / CW / Media / Retail / PD / PM 등 업역에 대한 이해, 최근 각광받는 Creative에 대하여, 좋은 기획이란 무엇인가\n",
    "AE / AD / CD / CW / Media / Retail / PD / PM 등 업역에 대한 이해, 대행사 입사방법이나 팁 (마케팅 직군도 포함), 업무에 대한 살아있는 이야기 (워킹 플로우)\n",
    "AE / AD / CD / CW / Media / Retail / PD / PM 등 업역에 대한 이해, 대행사 입사방법이나 팁 (마케팅 직군도 포함), 업무에 대한 살아있는 이야기 (워킹 플로우)\n",
    "업계 내에서 디지털이나 데이터 포지션 / 하는 역할, AE / AD / CD / CW / Media / Retail / PD / PM 등 업역에 대한 이해, 최근 각광받는 Creative에 대하여\n",
    "좋은 기획이란 무엇인가\n",
    "업계 내에서 디지털이나 데이터 포지션 / 하는 역할, AE / AD / CD / CW / Media / Retail / PD / PM 등 업역에 대한 이해, 대행사 입사방법이나 팁 (마케팅 직군도 포함), 최근 각광받는 Creative에 대하여\n",
    "업계 내에서 디지털이나 데이터 포지션 / 하는 역할, 업무에 대한 살아있는 이야기 (워킹 플로우), 좋은 기획이란 무엇인가\n",
    "AE / AD / CD / CW / Media / Retail / PD / PM 등 업역에 대한 이해, 대행사 입사방법이나 팁 (마케팅 직군도 포함), 최근 각광받는 Creative에 대하여\n",
    "좋은 기획이란 무엇인가\n",
    "AE / AD / CD / CW / Media / Retail / PD / PM 등 업역에 대한 이해, 최근 각광받는 Creative에 대하여\n",
    "AE / AD / CD / CW / Media / Retail / PD / PM 등 업역에 대한 이해, 대행사 입사방법이나 팁 (마케팅 직군도 포함), 업무에 대한 살아있는 이야기 (워킹 플로우)\n",
    "AE / AD / CD / CW / Media / Retail / PD / PM 등 업역에 대한 이해, 대행사 입사방법이나 팁 (마케팅 직군도 포함), 업무에 대한 살아있는 이야기 (워킹 플로우)'''"
   ]
  },
  {
   "cell_type": "code",
   "execution_count": 37,
   "metadata": {},
   "outputs": [],
   "source": [
    "records = responses.replace('\\n', ',').split(',')\n",
    "records = [item.strip() for item in records]"
   ]
  },
  {
   "cell_type": "code",
   "execution_count": 39,
   "metadata": {},
   "outputs": [
    {
     "name": "stdout",
     "output_type": "stream",
     "text": [
      "[개수] 주제\n",
      "[17] ■■■■■■■■■■■■■■■■■ AE / AD / CD / CW / Media / Retail / PD / PM 등 업역에 대한 이해\n",
      "[13] ■■■■■■■■■■■■■ 대행사 입사방법이나 팁 (마케팅 직군도 포함)\n",
      "[10] ■■■■■■■■■■ 업무에 대한 살아있는 이야기 (워킹 플로우)\n",
      "[09] ■■■■■■■■■ 업계 내에서 디지털이나 데이터 포지션 / 하는 역할\n",
      "[07] ■■■■■■■ 좋은 기획이란 무엇인가\n",
      "[07] ■■■■■■■ 최근 각광받는 Creative에 대하여\n",
      "[01] ■ 광고 대행사 내 데이터 포지션을 지닌 업무에서 통계학(혹은 더 나아가 머신러닝)이 쓰이나요? 쓰인다면 어떤 방향인지도 여쭙고 싶습니다.\n",
      "[01] ■ 업무에 통상적으로 요구되는 데이터 분석 능력 수준\n"
     ]
    }
   ],
   "source": [
    "counter = Counter(records)\n",
    "print('[개수] 주제')\n",
    "for subject, count in sorted(counter.items(), key=lambda item: (-item[1], item[0])):\n",
    "    print('[{:02d}]'.format(count), '■'*count, '{}'.format(subject))"
   ]
  }
 ],
 "metadata": {
  "kernelspec": {
   "display_name": "Python 3 (ipykernel)",
   "language": "python",
   "name": "python3"
  },
  "language_info": {
   "codemirror_mode": {
    "name": "ipython",
    "version": 3
   },
   "file_extension": ".py",
   "mimetype": "text/x-python",
   "name": "python",
   "nbconvert_exporter": "python",
   "pygments_lexer": "ipython3",
   "version": "3.8.5"
  }
 },
 "nbformat": 4,
 "nbformat_minor": 4
}
