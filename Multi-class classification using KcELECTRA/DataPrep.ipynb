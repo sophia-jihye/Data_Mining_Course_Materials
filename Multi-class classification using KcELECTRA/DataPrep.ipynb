{
 "cells": [
  {
   "cell_type": "code",
   "execution_count": 1,
   "metadata": {},
   "outputs": [],
   "source": [
    "import os \n",
    "import pandas as pd\n",
    "import numpy as np\n",
    "\n",
    "from sklearn.utils import shuffle"
   ]
  },
  {
   "cell_type": "code",
   "execution_count": 2,
   "metadata": {},
   "outputs": [],
   "source": [
    "data_filepath = '/home/jihyeparkk/DATA/Data_Mining_Course_Materials/마스크 속성별 리뷰.csv'\n",
    "\n",
    "save_filepath_format = '/home/jihyeparkk/DATA/Data_Mining_Course_Materials/{}_마스크_가격={},디자인={},사이즈={}_{}.csv'"
   ]
  },
  {
   "cell_type": "markdown",
   "metadata": {},
   "source": [
    "Data Exploration"
   ]
  },
  {
   "cell_type": "code",
   "execution_count": 3,
   "metadata": {},
   "outputs": [
    {
     "data": {
      "text/html": [
       "<div>\n",
       "<style scoped>\n",
       "    .dataframe tbody tr th:only-of-type {\n",
       "        vertical-align: middle;\n",
       "    }\n",
       "\n",
       "    .dataframe tbody tr th {\n",
       "        vertical-align: top;\n",
       "    }\n",
       "\n",
       "    .dataframe thead th {\n",
       "        text-align: right;\n",
       "    }\n",
       "</style>\n",
       "<table border=\"1\" class=\"dataframe\">\n",
       "  <thead>\n",
       "    <tr style=\"text-align: right;\">\n",
       "      <th></th>\n",
       "      <th>브랜드</th>\n",
       "      <th>가격</th>\n",
       "      <th>디자인</th>\n",
       "      <th>사이즈</th>\n",
       "    </tr>\n",
       "  </thead>\n",
       "  <tbody>\n",
       "    <tr>\n",
       "      <th>0</th>\n",
       "      <td>시노텍스</td>\n",
       "      <td>일단 배송이 진짜 빨라서 좋았어요 ㅎ토요일 오전에 주문해서 월요일 아침9시에 받았습...</td>\n",
       "      <td>색이 은은하면서 예뻐서 좋아요.</td>\n",
       "      <td>이제 이 마스크만 써요! 귀도편하고 사이즈도 좋아요</td>\n",
       "    </tr>\n",
       "    <tr>\n",
       "      <th>1</th>\n",
       "      <td>시노텍스</td>\n",
       "      <td>그동안 사용했던  마스크(기존 MB마스크)와 확연히 다르네요.우선 마스크를 착용시 ...</td>\n",
       "      <td>새부리마스크중 핏이 가장 이쁩니당</td>\n",
       "      <td>귀가 아파서 귀 편한걸로 구매했는데 좋네요여자 보통얼굴 m사이즈 적당히 좋아요</td>\n",
       "    </tr>\n",
       "    <tr>\n",
       "      <th>2</th>\n",
       "      <td>시노텍스</td>\n",
       "      <td>작년부터 가족 전체가 시노텍스 마스크 사용하고 있어요 값 싸고 대용량인 마스크만 쓰...</td>\n",
       "      <td>시노텍스 끼다가 다른 거 끼려면 불편하더라고요 컬러도 너무 예뻐서 좋아요</td>\n",
       "      <td>시노텍스 마스크가 확실히 편하고 좋아요 그리고 예뻐요 ㅎㅎ 새부리형 저렴한거는 사이...</td>\n",
       "    </tr>\n",
       "    <tr>\n",
       "      <th>3</th>\n",
       "      <td>시노텍스</td>\n",
       "      <td>M사이즈로 100개주문했습니다처음에는 L사이즈 샀었는데성인여성한테도 성인남성한테도 ...</td>\n",
       "      <td>숨쉬기 편하고 핏도 이쁘고 무엇보다 귀가 안아픕니다.</td>\n",
       "      <td>완전좋아요~쟁여놓고 쓰려고2통 주문 했습니다 중1 딸램 사이즈로 딱~~~또 재주문 ...</td>\n",
       "    </tr>\n",
       "    <tr>\n",
       "      <th>4</th>\n",
       "      <td>시노텍스</td>\n",
       "      <td>부리형 미마,닥터로드kf94만 쓰고있어요. 미마M사이즈랑 비교했을때 시노텍스가 약간...</td>\n",
       "      <td>시노텍스가 핏이 젤 이뻐서 재구매중이에요!!</td>\n",
       "      <td>사이즈 잘못시켜서 좀 크긴한데 조아용~~~</td>\n",
       "    </tr>\n",
       "    <tr>\n",
       "      <th>...</th>\n",
       "      <td>...</td>\n",
       "      <td>...</td>\n",
       "      <td>...</td>\n",
       "      <td>...</td>\n",
       "    </tr>\n",
       "    <tr>\n",
       "      <th>728</th>\n",
       "      <td>NaN</td>\n",
       "      <td>NaN</td>\n",
       "      <td>NaN</td>\n",
       "      <td>한 번 쓰고 너무 편하고 예뻐서 또 구매했어요 얼굴 여성 평균보다 좀 작은 편에 속...</td>\n",
       "    </tr>\n",
       "    <tr>\n",
       "      <th>729</th>\n",
       "      <td>NaN</td>\n",
       "      <td>NaN</td>\n",
       "      <td>NaN</td>\n",
       "      <td>디자인과 컬러는 마음에 드나 사이즈가 다른 것과 비교하니 좀 작아서 여성도 대형해야...</td>\n",
       "    </tr>\n",
       "    <tr>\n",
       "      <th>730</th>\n",
       "      <td>NaN</td>\n",
       "      <td>NaN</td>\n",
       "      <td>NaN</td>\n",
       "      <td>좋아요 근데 m사이즈가 생각보다 커서 다음엔 s살까 고민 되네요</td>\n",
       "    </tr>\n",
       "    <tr>\n",
       "      <th>731</th>\n",
       "      <td>NaN</td>\n",
       "      <td>NaN</td>\n",
       "      <td>NaN</td>\n",
       "      <td>좀 작은 편 ㅜ 아쉽네요</td>\n",
       "    </tr>\n",
       "    <tr>\n",
       "      <th>732</th>\n",
       "      <td>NaN</td>\n",
       "      <td>NaN</td>\n",
       "      <td>NaN</td>\n",
       "      <td>쟁여놓고 사용하고 있어요~ 사이즈 잘 맞고 가볍고 귀 안아파서 좋아요</td>\n",
       "    </tr>\n",
       "  </tbody>\n",
       "</table>\n",
       "<p>733 rows × 4 columns</p>\n",
       "</div>"
      ],
      "text/plain": [
       "      브랜드                                                 가격   \n",
       "0    시노텍스  일단 배송이 진짜 빨라서 좋았어요 ㅎ토요일 오전에 주문해서 월요일 아침9시에 받았습...  \\\n",
       "1    시노텍스  그동안 사용했던  마스크(기존 MB마스크)와 확연히 다르네요.우선 마스크를 착용시 ...   \n",
       "2    시노텍스  작년부터 가족 전체가 시노텍스 마스크 사용하고 있어요 값 싸고 대용량인 마스크만 쓰...   \n",
       "3    시노텍스  M사이즈로 100개주문했습니다처음에는 L사이즈 샀었는데성인여성한테도 성인남성한테도 ...   \n",
       "4    시노텍스  부리형 미마,닥터로드kf94만 쓰고있어요. 미마M사이즈랑 비교했을때 시노텍스가 약간...   \n",
       "..    ...                                                ...   \n",
       "728   NaN                                                NaN   \n",
       "729   NaN                                                NaN   \n",
       "730   NaN                                                NaN   \n",
       "731   NaN                                                NaN   \n",
       "732   NaN                                                NaN   \n",
       "\n",
       "                                          디자인   \n",
       "0                           색이 은은하면서 예뻐서 좋아요.  \\\n",
       "1                          새부리마스크중 핏이 가장 이쁩니당   \n",
       "2    시노텍스 끼다가 다른 거 끼려면 불편하더라고요 컬러도 너무 예뻐서 좋아요   \n",
       "3               숨쉬기 편하고 핏도 이쁘고 무엇보다 귀가 안아픕니다.   \n",
       "4                    시노텍스가 핏이 젤 이뻐서 재구매중이에요!!   \n",
       "..                                        ...   \n",
       "728                                       NaN   \n",
       "729                                       NaN   \n",
       "730                                       NaN   \n",
       "731                                       NaN   \n",
       "732                                       NaN   \n",
       "\n",
       "                                                   사이즈  \n",
       "0                         이제 이 마스크만 써요! 귀도편하고 사이즈도 좋아요  \n",
       "1          귀가 아파서 귀 편한걸로 구매했는데 좋네요여자 보통얼굴 m사이즈 적당히 좋아요  \n",
       "2    시노텍스 마스크가 확실히 편하고 좋아요 그리고 예뻐요 ㅎㅎ 새부리형 저렴한거는 사이...  \n",
       "3    완전좋아요~쟁여놓고 쓰려고2통 주문 했습니다 중1 딸램 사이즈로 딱~~~또 재주문 ...  \n",
       "4                              사이즈 잘못시켜서 좀 크긴한데 조아용~~~  \n",
       "..                                                 ...  \n",
       "728  한 번 쓰고 너무 편하고 예뻐서 또 구매했어요 얼굴 여성 평균보다 좀 작은 편에 속...  \n",
       "729  디자인과 컬러는 마음에 드나 사이즈가 다른 것과 비교하니 좀 작아서 여성도 대형해야...  \n",
       "730                좋아요 근데 m사이즈가 생각보다 커서 다음엔 s살까 고민 되네요  \n",
       "731                                      좀 작은 편 ㅜ 아쉽네요  \n",
       "732             쟁여놓고 사용하고 있어요~ 사이즈 잘 맞고 가볍고 귀 안아파서 좋아요  \n",
       "\n",
       "[733 rows x 4 columns]"
      ]
     },
     "execution_count": 3,
     "metadata": {},
     "output_type": "execute_result"
    }
   ],
   "source": [
    "df = pd.read_csv(data_filepath)\n",
    "df.drop(columns=[col for col in df.columns if 'Unnamed:' in col], inplace=True)\n",
    "df"
   ]
  },
  {
   "cell_type": "code",
   "execution_count": 4,
   "metadata": {},
   "outputs": [
    {
     "name": "stdout",
     "output_type": "stream",
     "text": [
      "Total number of reviews for the 가격 aspect: 664\n",
      "['일단 배송이 진짜 빨라서 좋았어요 ㅎ토요일 오전에 주문해서 월요일 아침9시에 받았습니다!제가 직업 특성상 마스크를 끼고 야외에서 많이 움직이는 일을 하는데, 특히 여름엔 진짜 마스크 끼고 일한다는데 너무너무 힘+A1들었거든요..일회용 마스크를 쓰고 일하면 얼굴에 닿는면이 너무 많아서 한두시간 지나면 축축해지고 힘들어서 새부리형 마스크만 고집해서 쓰는데 진짜 이것저것 안써본 새부리형 마스크가 없었는데, 가격대비진짜 가볍고 숨쉬기 편한거 같아요! 그리고 그 무엇보다 사이즈가 진짜 찰떡이에요.. 제가 얼굴이 갸름하고 살이 없고,긴 얼굴형이고, 아주 작은 얼굴형이 아니라 아*르 pro 스몰은 너무 딱맞아서 나중에 콧등이 아프고,아*르 라이트핏 엠 사이즈는 너무 커서 헐떡였는데, 이제품은 스몰 사이즈 쓰니까 적당히 딱 밀착되서 좋았어요! 처음엔 너무 딱 밀착되서 답답한가 싶었는데 귀에 걸리는 끈 부분이 잘 늘어나서 불편함 없이 쓰고있습니다. 그리고 그 무엇보다 핏이 예뻐요 .. ㅋ 앞으로도 자주 구매 할거같아요~!', '그동안 사용했던  마스크(기존 MB마스크)와 확연히 다르네요.우선 마스크를 착용시 숨쉬기가 너무 편해서 놀랐네요.제품 도착하자마자 착용 후 호흡을 해보았는데 아주 편했습니다.기존에 사용하던 마스크는 동일한 형태의 마스크였지만 호흡이 불편해서 회사에서 장시간 착용시 호흡이 갑갑하고 힘들어 장시간 착용이 힘들었는데, 시노텍스 마스크는  장시간 착용하고 활동을 해도 괜찮을 것 같네요. 둘째로 착용감이 좋네요. 제가 얼굴이 약간 큰 편인데 정확하게 제 얼굴에 정확하게 밀착되어 틈이 거의 없고 마스크 착용감이 너무 좋네요. 제 중학생 아이는 볼 부분에 아주 약간 틈이 있지만 코편을 잘 맞춰주면 거의 틈이 없어지네요.(아마도 S사이즈면 조절없이 정확하게 맞을 것 같네요) 셋째로 포장이 낱개 포장된 마스크가 50개씩 종이박스에 깔끔하게 포장되어 있고 빠른 배송도 좋네요. 넷째로 무엇보다도 신규 출시이벤트로 50% 할인된 가격이다보니 개당 450원으로 기존 마스크보다 성능의 마스크를 구매하게 되어 코로나 바이러스에 대한 차단력이 높아 안심하고 사용할 수 있게되어 좋네요. 차후에도 지속적으로 구매해서 사용해야 겠네요.', '작년부터 가족 전체가 시노텍스 마스크 사용하고 있어요 값 싸고 대용량인 마스크만 쓰다가 피부가 너무 상해서 트러블 안나는 마스크& 귀가 아프지 않는 마스크 찾다가 시노텍스로 정착했습니다 값 싸고 3살 저희 아들도 넉넉한 마스크를 써도 슬슬 귀가아픈지 계속 빼달라고 울더라구요 코로나가 끝나도 미세먼지때문에 아마 계속 사야할 마스크인 것 같은데 근데 이 시노텍스는 잘 쓰고있어요 그리고 정말 좋은데 워터파크갈때도 꼭 시노텍스를 쓰는데 왠만한 아쿠아마스크보다 방수도 잘 되고 아기 숨쉬기도 편해서 너무 좋더라구요 다른 아쿠아마스크들은 너무 딱 밀착되서 안그래도 습한 실내 워터파크에서 애가 숨을 잘 쉬고 있는지 걱정됐었는데 너무 안심이에요! 엄마인 저는 S 아기는 XS 남편은 L 한번 살때 30-50장씩 쟁여두고 두달정도 마다 계속 재주문중이에요! 저는 앞으로도 시노텍스만 사용할 예정이에요:)'] \n",
      "\n",
      "Total number of reviews for the 디자인 aspect: 721\n",
      "['색이 은은하면서 예뻐서 좋아요.', '새부리마스크중 핏이 가장 이쁩니당', '시노텍스 끼다가 다른 거 끼려면 불편하더라고요 컬러도 너무 예뻐서 좋아요'] \n",
      "\n",
      "Total number of reviews for the 사이즈 aspect: 733\n",
      "['이제 이 마스크만 써요! 귀도편하고 사이즈도 좋아요', '귀가 아파서 귀 편한걸로 구매했는데 좋네요여자 보통얼굴 m사이즈 적당히 좋아요', '시노텍스 마스크가 확실히 편하고 좋아요 그리고 예뻐요 ㅎㅎ 새부리형 저렴한거는 사이즈가 너무 커서 불편했거든요 ㅠㅠ 이게 최고..'] \n",
      "\n"
     ]
    },
    {
     "data": {
      "text/html": [
       "<div>\n",
       "<style scoped>\n",
       "    .dataframe tbody tr th:only-of-type {\n",
       "        vertical-align: middle;\n",
       "    }\n",
       "\n",
       "    .dataframe tbody tr th {\n",
       "        vertical-align: top;\n",
       "    }\n",
       "\n",
       "    .dataframe thead th {\n",
       "        text-align: right;\n",
       "    }\n",
       "</style>\n",
       "<table border=\"1\" class=\"dataframe\">\n",
       "  <thead>\n",
       "    <tr style=\"text-align: right;\">\n",
       "      <th></th>\n",
       "      <th>text</th>\n",
       "      <th>label</th>\n",
       "    </tr>\n",
       "  </thead>\n",
       "  <tbody>\n",
       "    <tr>\n",
       "      <th>0</th>\n",
       "      <td>일단 배송이 진짜 빨라서 좋았어요 ㅎ토요일 오전에 주문해서 월요일 아침9시에 받았습...</td>\n",
       "      <td>가격</td>\n",
       "    </tr>\n",
       "    <tr>\n",
       "      <th>1</th>\n",
       "      <td>그동안 사용했던  마스크(기존 MB마스크)와 확연히 다르네요.우선 마스크를 착용시 ...</td>\n",
       "      <td>가격</td>\n",
       "    </tr>\n",
       "    <tr>\n",
       "      <th>2</th>\n",
       "      <td>작년부터 가족 전체가 시노텍스 마스크 사용하고 있어요 값 싸고 대용량인 마스크만 쓰...</td>\n",
       "      <td>가격</td>\n",
       "    </tr>\n",
       "    <tr>\n",
       "      <th>3</th>\n",
       "      <td>M사이즈로 100개주문했습니다처음에는 L사이즈 샀었는데성인여성한테도 성인남성한테도 ...</td>\n",
       "      <td>가격</td>\n",
       "    </tr>\n",
       "    <tr>\n",
       "      <th>4</th>\n",
       "      <td>부리형 미마,닥터로드kf94만 쓰고있어요. 미마M사이즈랑 비교했을때 시노텍스가 약간...</td>\n",
       "      <td>가격</td>\n",
       "    </tr>\n",
       "    <tr>\n",
       "      <th>...</th>\n",
       "      <td>...</td>\n",
       "      <td>...</td>\n",
       "    </tr>\n",
       "    <tr>\n",
       "      <th>728</th>\n",
       "      <td>한 번 쓰고 너무 편하고 예뻐서 또 구매했어요 얼굴 여성 평균보다 좀 작은 편에 속...</td>\n",
       "      <td>사이즈</td>\n",
       "    </tr>\n",
       "    <tr>\n",
       "      <th>729</th>\n",
       "      <td>디자인과 컬러는 마음에 드나 사이즈가 다른 것과 비교하니 좀 작아서 여성도 대형해야...</td>\n",
       "      <td>사이즈</td>\n",
       "    </tr>\n",
       "    <tr>\n",
       "      <th>730</th>\n",
       "      <td>좋아요 근데 m사이즈가 생각보다 커서 다음엔 s살까 고민 되네요</td>\n",
       "      <td>사이즈</td>\n",
       "    </tr>\n",
       "    <tr>\n",
       "      <th>731</th>\n",
       "      <td>좀 작은 편 ㅜ 아쉽네요</td>\n",
       "      <td>사이즈</td>\n",
       "    </tr>\n",
       "    <tr>\n",
       "      <th>732</th>\n",
       "      <td>쟁여놓고 사용하고 있어요~ 사이즈 잘 맞고 가볍고 귀 안아파서 좋아요</td>\n",
       "      <td>사이즈</td>\n",
       "    </tr>\n",
       "  </tbody>\n",
       "</table>\n",
       "<p>2118 rows × 2 columns</p>\n",
       "</div>"
      ],
      "text/plain": [
       "                                                  text label\n",
       "0    일단 배송이 진짜 빨라서 좋았어요 ㅎ토요일 오전에 주문해서 월요일 아침9시에 받았습...    가격\n",
       "1    그동안 사용했던  마스크(기존 MB마스크)와 확연히 다르네요.우선 마스크를 착용시 ...    가격\n",
       "2    작년부터 가족 전체가 시노텍스 마스크 사용하고 있어요 값 싸고 대용량인 마스크만 쓰...    가격\n",
       "3    M사이즈로 100개주문했습니다처음에는 L사이즈 샀었는데성인여성한테도 성인남성한테도 ...    가격\n",
       "4    부리형 미마,닥터로드kf94만 쓰고있어요. 미마M사이즈랑 비교했을때 시노텍스가 약간...    가격\n",
       "..                                                 ...   ...\n",
       "728  한 번 쓰고 너무 편하고 예뻐서 또 구매했어요 얼굴 여성 평균보다 좀 작은 편에 속...   사이즈\n",
       "729  디자인과 컬러는 마음에 드나 사이즈가 다른 것과 비교하니 좀 작아서 여성도 대형해야...   사이즈\n",
       "730                좋아요 근데 m사이즈가 생각보다 커서 다음엔 s살까 고민 되네요   사이즈\n",
       "731                                      좀 작은 편 ㅜ 아쉽네요   사이즈\n",
       "732             쟁여놓고 사용하고 있어요~ 사이즈 잘 맞고 가볍고 귀 안아파서 좋아요   사이즈\n",
       "\n",
       "[2118 rows x 2 columns]"
      ]
     },
     "execution_count": 4,
     "metadata": {},
     "output_type": "execute_result"
    }
   ],
   "source": [
    "dfs = []\n",
    "for aspect_name in ['가격', '디자인', '사이즈']:\n",
    "    reviews = [review for review in df[aspect_name].values if review is not np.nan]\n",
    "    print('Total number of reviews for the {} aspect: {}'.format(aspect_name, len(reviews)))\n",
    "    print(reviews[:3], '\\n')\n",
    "    \n",
    "    one_df = pd.DataFrame(reviews, columns=['text'])\n",
    "    one_df['label'] = aspect_name\n",
    "    dfs.append(one_df)\n",
    "    \n",
    "df = pd.concat(dfs)\n",
    "df"
   ]
  },
  {
   "cell_type": "code",
   "execution_count": 5,
   "metadata": {},
   "outputs": [
    {
     "name": "stdout",
     "output_type": "stream",
     "text": [
      "Created /home/jihyeparkk/DATA/Data_Mining_Course_Materials/Raw_마스크_가격=664,디자인=721,사이즈=733_2118.csv\n"
     ]
    }
   ],
   "source": [
    "save_filepath = save_filepath_format.format('Raw', len(df[df['label']=='가격']), \\\n",
    "                    len(df[df['label']=='디자인']), len(df[df['label']=='사이즈']), len(df))\n",
    "df.to_csv(save_filepath, index=False)\n",
    "print('Created {}'.format(save_filepath))"
   ]
  },
  {
   "cell_type": "markdown",
   "metadata": {},
   "source": [
    "* 중복된 데이터 제거"
   ]
  },
  {
   "cell_type": "code",
   "execution_count": 6,
   "metadata": {},
   "outputs": [
    {
     "name": "stdout",
     "output_type": "stream",
     "text": [
      "Dropped 50\n"
     ]
    }
   ],
   "source": [
    "original_len = len(df)\n",
    "\n",
    "df.drop_duplicates(['text'], keep='first', inplace=True) \n",
    "print('Dropped {}'.format(original_len - len(df)))"
   ]
  },
  {
   "cell_type": "markdown",
   "metadata": {},
   "source": [
    "* Balanced dataset 구축\n",
    "* Train/Test Split"
   ]
  },
  {
   "cell_type": "code",
   "execution_count": 7,
   "metadata": {},
   "outputs": [
    {
     "name": "stdout",
     "output_type": "stream",
     "text": [
      "651 rows exist for \"가격\".\n",
      "701 rows exist for \"디자인\".\n",
      "716 rows exist for \"사이즈\".\n"
     ]
    }
   ],
   "source": [
    "for label in df['label'].unique():\n",
    "    print('{} rows exist for \"{}\".'.format(len(df[df['label']==label]), label))"
   ]
  },
  {
   "cell_type": "code",
   "execution_count": 8,
   "metadata": {},
   "outputs": [
    {
     "name": "stdout",
     "output_type": "stream",
     "text": [
      "[가격] 522 rows for training & 129 rows for test.\n",
      "[디자인] 572 rows for training & 129 rows for test.\n",
      "[사이즈] 587 rows for training & 129 rows for test.\n"
     ]
    }
   ],
   "source": [
    "num_of_samples_for_each_aspect = 645\n",
    "test_ratio = 0.2\n",
    "\n",
    "split_criteria = int(num_of_samples_for_each_aspect*test_ratio)\n",
    "train_dfs, test_dfs = [], []\n",
    "for label in df['label'].unique():\n",
    "    one_df = df[df['label']==label]\n",
    "    one_df = shuffle(one_df)\n",
    "    \n",
    "    test_df = one_df.iloc[:split_criteria]\n",
    "    train_df = one_df.iloc[split_criteria:]\n",
    "    print('[{}] {} rows for training & {} rows for test.'.format(label, len(train_df), len(test_df)))\n",
    "    \n",
    "    train_dfs.append(train_df)\n",
    "    test_dfs.append(test_df)\n",
    "    \n",
    "train_df = pd.concat(train_dfs)\n",
    "test_df = pd.concat(test_dfs)"
   ]
  },
  {
   "cell_type": "code",
   "execution_count": 9,
   "metadata": {},
   "outputs": [
    {
     "name": "stdout",
     "output_type": "stream",
     "text": [
      "Created /home/jihyeparkk/DATA/Data_Mining_Course_Materials/Train_마스크_가격=522,디자인=572,사이즈=587_1681.csv\n",
      "Created /home/jihyeparkk/DATA/Data_Mining_Course_Materials/Test_마스크_가격=129,디자인=129,사이즈=129_387.csv\n"
     ]
    }
   ],
   "source": [
    "save_filepath = save_filepath_format.format('Train', len(train_df[train_df['label']=='가격']), \\\n",
    "                    len(train_df[train_df['label']=='디자인']), len(train_df[train_df['label']=='사이즈']), len(train_df))\n",
    "train_df.to_csv(save_filepath, index=False)\n",
    "print('Created {}'.format(save_filepath))\n",
    "\n",
    "save_filepath = save_filepath_format.format('Test', len(test_df[test_df['label']=='가격']), \\\n",
    "                    len(test_df[test_df['label']=='디자인']), len(test_df[test_df['label']=='사이즈']), len(test_df))\n",
    "test_df.to_csv(save_filepath, index=False)\n",
    "print('Created {}'.format(save_filepath))"
   ]
  },
  {
   "cell_type": "code",
   "execution_count": 11,
   "metadata": {},
   "outputs": [
    {
     "data": {
      "text/plain": [
       "0       항상 주기적으로 구매하는 상품입니다가격도 핏도 편함도 배송도 최고입니다! 또 구매할...\n",
       "1       벌써 몇번째 재구매인지 모르겠네요~ 항상 홈페이지에서 사다가 네이버 할인 있어서 여...\n",
       "2                                     배송 빠르고 저렴하게 잘 구매했어요\n",
       "3                                        빠른 배송 저렴한 가격 좋아요\n",
       "4       가격대가 있는 편이라 이번만 쓰고 안써야지..했는데 너무 마음에 들어서 벌써 3번째...\n",
       "                              ...                        \n",
       "1676    맨날 마스크쓰면 얼굴 넙데데해져서 싫었는데 이거 쓰니까 브이라인되네욬ㅋㅋㅋ 안에 보...\n",
       "1677                                       좋아요 사이즈는 좀 크네요\n",
       "1678    너무 조아요…… 숨쉬기도 편하고 귀도 하나두 안 아파요!! 처음엔 사이즈가 작은 거...\n",
       "1679                                      사이즈 잘맞고 색깔도 예뻐요\n",
       "1680    헬스장 트레이너님 추천으로 50매 먼저 구매한 후,디자인에 반하고! 얼굴형에 착 달...\n",
       "Name: text, Length: 1681, dtype: object"
      ]
     },
     "execution_count": 11,
     "metadata": {},
     "output_type": "execute_result"
    }
   ],
   "source": [
    "pd.read_csv('/home/jihyeparkk/DATA/Data_Mining_Course_Materials/Train_마스크_가격=522,디자인=572,사이즈=587_1681.csv').text"
   ]
  }
 ],
 "metadata": {
  "kernelspec": {
   "display_name": "Python 3 (ipykernel)",
   "language": "python",
   "name": "python3"
  },
  "language_info": {
   "codemirror_mode": {
    "name": "ipython",
    "version": 3
   },
   "file_extension": ".py",
   "mimetype": "text/x-python",
   "name": "python",
   "nbconvert_exporter": "python",
   "pygments_lexer": "ipython3",
   "version": "3.8.16"
  }
 },
 "nbformat": 4,
 "nbformat_minor": 4
}
