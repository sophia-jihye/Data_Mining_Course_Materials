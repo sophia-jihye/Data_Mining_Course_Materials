{
 "cells": [
  {
   "cell_type": "code",
   "execution_count": 4,
   "id": "c1d7f071",
   "metadata": {},
   "outputs": [],
   "source": [
    "from transformers import AutoModelForSequenceClassification, AutoTokenizer\n",
    "import torch"
   ]
  },
  {
   "cell_type": "code",
   "execution_count": 11,
   "id": "f448fba4",
   "metadata": {},
   "outputs": [
    {
     "data": {
      "text/plain": [
       "{0: '가격', 1: '디자인', 2: '사이즈'}"
      ]
     },
     "execution_count": 11,
     "metadata": {},
     "output_type": "execute_result"
    }
   ],
   "source": [
    "model_dir = '/home/jihyeparkk/DATA/Data_Mining_Course_Materials/KcELECTRA/checkpoint-300'\n",
    "\n",
    "relabel_dict = {'가격':0, '디자인':1, '사이즈': 2}\n",
    "id2label = {val:key for key, val in relabel_dict.items()}\n",
    "id2label"
   ]
  },
  {
   "cell_type": "code",
   "execution_count": 6,
   "id": "7f824b7c",
   "metadata": {},
   "outputs": [],
   "source": [
    "# tokenizer = AutoTokenizer.from_pretrained(\"beomi/KcELECTRA-base\")\n",
    "# tokenizer.save_pretrained(model_dir)"
   ]
  },
  {
   "cell_type": "code",
   "execution_count": 7,
   "id": "7abe0ff5",
   "metadata": {},
   "outputs": [
    {
     "data": {
      "text/plain": [
       "device(type='cuda')"
      ]
     },
     "execution_count": 7,
     "metadata": {},
     "output_type": "execute_result"
    }
   ],
   "source": [
    "device = torch.device(\"cuda\" if torch.cuda.is_available() else \"cpu\")\n",
    "device"
   ]
  },
  {
   "cell_type": "code",
   "execution_count": 8,
   "id": "9a3fa839",
   "metadata": {},
   "outputs": [],
   "source": [
    "tokenizer = AutoTokenizer.from_pretrained(model_dir)\n",
    "model = AutoModelForSequenceClassification.from_pretrained(model_dir)\n",
    "model = model.to(device)\n",
    "tokenizer = AutoTokenizer.from_pretrained(model_dir)"
   ]
  },
  {
   "cell_type": "code",
   "execution_count": 9,
   "id": "efc5cc8b",
   "metadata": {},
   "outputs": [],
   "source": [
    "def inference(model, input_ids, attention_mask):\n",
    "    model.eval()\n",
    "    with torch.no_grad():\n",
    "        try: outputs = model(input_ids, attention_mask=attention_mask, return_dict=True)\n",
    "        except: return None\n",
    "    logits = outputs['logits']\n",
    "    predicted_label = torch.argmax(logits)\n",
    "    return predicted_label.item()\n",
    "\n",
    "def encode_for_inference(device, tokenizer, text):\n",
    "    data = {key: torch.tensor(val) for key, val in tokenizer(text, truncation=True, padding='max_length', max_length=512).items()}\n",
    "    return torch.unsqueeze(data['input_ids'], 0).to(device), torch.unsqueeze(data['attention_mask'], 0).to(device)"
   ]
  },
  {
   "cell_type": "code",
   "execution_count": 12,
   "id": "1565de53",
   "metadata": {},
   "outputs": [
    {
     "name": "stdout",
     "output_type": "stream",
     "text": [
      "이 마스크는 저렴해서 좋아요 -> Classified as \"가격\"\" aspect.\n",
      "이 마스크는 예뻐서 좋아요 -> Classified as \"디자인\"\" aspect.\n",
      "이 마스크는 크기가 커서 좋아요 -> Classified as \"사이즈\"\" aspect.\n"
     ]
    }
   ],
   "source": [
    "texts = [\"이 마스크는 저렴해서 좋아요\", \"이 마스크는 예뻐서 좋아요\", \"이 마스크는 크기가 커서 좋아요\"]\n",
    "for text in texts:\n",
    "    input_ids, attention_mask = encode_for_inference(device, tokenizer, text)\n",
    "    print('{} -> Classified as \"{}\"\" aspect.'.format(text, id2label[inference(model, input_ids, attention_mask)]))"
   ]
  }
 ],
 "metadata": {
  "kernelspec": {
   "display_name": "Python 3 (ipykernel)",
   "language": "python",
   "name": "python3"
  },
  "language_info": {
   "codemirror_mode": {
    "name": "ipython",
    "version": 3
   },
   "file_extension": ".py",
   "mimetype": "text/x-python",
   "name": "python",
   "nbconvert_exporter": "python",
   "pygments_lexer": "ipython3",
   "version": "3.8.16"
  }
 },
 "nbformat": 4,
 "nbformat_minor": 5
}
